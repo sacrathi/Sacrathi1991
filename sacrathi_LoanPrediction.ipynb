{
 "cells": [
  {
   "cell_type": "code",
   "execution_count": 1,
   "metadata": {},
   "outputs": [],
   "source": [
    "import pandas as pd\n",
    "pd.set_option('display.max_columns', 500)\n",
    "import numpy as np\n",
    "import matplotlib.pyplot as plt\n",
    "import seaborn as sns\n",
    "%matplotlib inline\n",
    "\n",
    "import warnings\n",
    "warnings.filterwarnings('ignore')"
   ]
  },
  {
   "cell_type": "code",
   "execution_count": 2,
   "metadata": {},
   "outputs": [],
   "source": [
    "df1 = pd.read_csv(\"D:\\\\Python for data science\\\\Practice\\\\Analytics Vidhya\\\\Loan Delinquency Prediction- 15th Aug\\\\train_u5jK80M\\\\train.csv\")\n",
    "\n",
    "df3 = pd.read_csv(\"D:\\\\Python for data science\\\\Practice\\\\Analytics Vidhya\\\\Loan Delinquency Prediction- 15th Aug\\\\test_3BA6GZX\\\\test.csv\")"
   ]
  },
  {
   "cell_type": "code",
   "execution_count": 243,
   "metadata": {},
   "outputs": [],
   "source": [
    "df3 = df2"
   ]
  },
  {
   "cell_type": "code",
   "execution_count": 245,
   "metadata": {},
   "outputs": [],
   "source": [
    "u = df1.select_dtypes(include='float64').columns.tolist()\n",
    "\n",
    "for col in u:\n",
    "    df1[u] = df1[u].astype('int64')\n",
    "\n",
    "df1['origination_date'] = pd.to_datetime(df1['origination_date'],format='%Y-%m-%d')\n",
    "\n",
    "df1['first_payment_date']=pd.to_datetime(df1['first_payment_date'])\n",
    "\n",
    "#Drop Load ID and financial_institution column\n",
    "\n",
    "df1= df1.drop(['loan_id','financial_institution'],axis=1)\n",
    "\n",
    "v = df1.select_dtypes(include='object').columns.tolist()\n",
    "\n",
    "for col in v:\n",
    "    new = pd.get_dummies(df1[col],prefix=col)\n",
    "    df1 = pd.concat([df1,new],axis=1)\n",
    "    "
   ]
  },
  {
   "cell_type": "code",
   "execution_count": 246,
   "metadata": {},
   "outputs": [],
   "source": [
    "#Drop Original object columns as we have applied pd.get_dummies on those\n",
    "df = df1.drop(['source','loan_purpose'],axis=1)"
   ]
  },
  {
   "cell_type": "code",
   "execution_count": 247,
   "metadata": {},
   "outputs": [],
   "source": [
    "df_final = df"
   ]
  },
  {
   "cell_type": "code",
   "execution_count": 248,
   "metadata": {},
   "outputs": [
    {
     "data": {
      "text/html": [
       "<div>\n",
       "<style scoped>\n",
       "    .dataframe tbody tr th:only-of-type {\n",
       "        vertical-align: middle;\n",
       "    }\n",
       "\n",
       "    .dataframe tbody tr th {\n",
       "        vertical-align: top;\n",
       "    }\n",
       "\n",
       "    .dataframe thead th {\n",
       "        text-align: right;\n",
       "    }\n",
       "</style>\n",
       "<table border=\"1\" class=\"dataframe\">\n",
       "  <thead>\n",
       "    <tr style=\"text-align: right;\">\n",
       "      <th></th>\n",
       "      <th>interest_rate</th>\n",
       "      <th>unpaid_principal_bal</th>\n",
       "      <th>loan_term</th>\n",
       "      <th>origination_date</th>\n",
       "      <th>first_payment_date</th>\n",
       "      <th>loan_to_value</th>\n",
       "      <th>number_of_borrowers</th>\n",
       "      <th>debt_to_income_ratio</th>\n",
       "      <th>borrower_credit_score</th>\n",
       "      <th>insurance_percent</th>\n",
       "      <th>co-borrower_credit_score</th>\n",
       "      <th>insurance_type</th>\n",
       "      <th>m1</th>\n",
       "      <th>m2</th>\n",
       "      <th>m3</th>\n",
       "      <th>m4</th>\n",
       "      <th>m5</th>\n",
       "      <th>m6</th>\n",
       "      <th>m7</th>\n",
       "      <th>m8</th>\n",
       "      <th>m9</th>\n",
       "      <th>m10</th>\n",
       "      <th>m11</th>\n",
       "      <th>m12</th>\n",
       "      <th>m13</th>\n",
       "      <th>source_X</th>\n",
       "      <th>source_Y</th>\n",
       "      <th>source_Z</th>\n",
       "      <th>loan_purpose_A23</th>\n",
       "      <th>loan_purpose_B12</th>\n",
       "      <th>loan_purpose_C86</th>\n",
       "    </tr>\n",
       "  </thead>\n",
       "  <tbody>\n",
       "    <tr>\n",
       "      <th>0</th>\n",
       "      <td>4</td>\n",
       "      <td>214000</td>\n",
       "      <td>360</td>\n",
       "      <td>2012-03-01</td>\n",
       "      <td>2012-05-01</td>\n",
       "      <td>95</td>\n",
       "      <td>1</td>\n",
       "      <td>22</td>\n",
       "      <td>694</td>\n",
       "      <td>30</td>\n",
       "      <td>0</td>\n",
       "      <td>0</td>\n",
       "      <td>0</td>\n",
       "      <td>0</td>\n",
       "      <td>0</td>\n",
       "      <td>0</td>\n",
       "      <td>0</td>\n",
       "      <td>0</td>\n",
       "      <td>1</td>\n",
       "      <td>0</td>\n",
       "      <td>0</td>\n",
       "      <td>0</td>\n",
       "      <td>0</td>\n",
       "      <td>0</td>\n",
       "      <td>1</td>\n",
       "      <td>0</td>\n",
       "      <td>0</td>\n",
       "      <td>1</td>\n",
       "      <td>0</td>\n",
       "      <td>0</td>\n",
       "      <td>1</td>\n",
       "    </tr>\n",
       "    <tr>\n",
       "      <th>1</th>\n",
       "      <td>4</td>\n",
       "      <td>144000</td>\n",
       "      <td>360</td>\n",
       "      <td>2012-01-01</td>\n",
       "      <td>2012-03-01</td>\n",
       "      <td>72</td>\n",
       "      <td>1</td>\n",
       "      <td>44</td>\n",
       "      <td>697</td>\n",
       "      <td>0</td>\n",
       "      <td>0</td>\n",
       "      <td>0</td>\n",
       "      <td>0</td>\n",
       "      <td>0</td>\n",
       "      <td>0</td>\n",
       "      <td>0</td>\n",
       "      <td>0</td>\n",
       "      <td>0</td>\n",
       "      <td>0</td>\n",
       "      <td>0</td>\n",
       "      <td>0</td>\n",
       "      <td>0</td>\n",
       "      <td>1</td>\n",
       "      <td>0</td>\n",
       "      <td>1</td>\n",
       "      <td>0</td>\n",
       "      <td>1</td>\n",
       "      <td>0</td>\n",
       "      <td>0</td>\n",
       "      <td>1</td>\n",
       "      <td>0</td>\n",
       "    </tr>\n",
       "    <tr>\n",
       "      <th>2</th>\n",
       "      <td>3</td>\n",
       "      <td>366000</td>\n",
       "      <td>180</td>\n",
       "      <td>2012-01-01</td>\n",
       "      <td>2012-03-01</td>\n",
       "      <td>49</td>\n",
       "      <td>1</td>\n",
       "      <td>33</td>\n",
       "      <td>780</td>\n",
       "      <td>0</td>\n",
       "      <td>0</td>\n",
       "      <td>0</td>\n",
       "      <td>0</td>\n",
       "      <td>0</td>\n",
       "      <td>0</td>\n",
       "      <td>0</td>\n",
       "      <td>0</td>\n",
       "      <td>0</td>\n",
       "      <td>0</td>\n",
       "      <td>0</td>\n",
       "      <td>0</td>\n",
       "      <td>0</td>\n",
       "      <td>0</td>\n",
       "      <td>0</td>\n",
       "      <td>1</td>\n",
       "      <td>0</td>\n",
       "      <td>0</td>\n",
       "      <td>1</td>\n",
       "      <td>0</td>\n",
       "      <td>1</td>\n",
       "      <td>0</td>\n",
       "    </tr>\n",
       "    <tr>\n",
       "      <th>3</th>\n",
       "      <td>4</td>\n",
       "      <td>135000</td>\n",
       "      <td>360</td>\n",
       "      <td>2012-02-01</td>\n",
       "      <td>2012-04-01</td>\n",
       "      <td>46</td>\n",
       "      <td>2</td>\n",
       "      <td>44</td>\n",
       "      <td>633</td>\n",
       "      <td>0</td>\n",
       "      <td>638</td>\n",
       "      <td>0</td>\n",
       "      <td>0</td>\n",
       "      <td>0</td>\n",
       "      <td>0</td>\n",
       "      <td>0</td>\n",
       "      <td>0</td>\n",
       "      <td>0</td>\n",
       "      <td>0</td>\n",
       "      <td>0</td>\n",
       "      <td>1</td>\n",
       "      <td>1</td>\n",
       "      <td>1</td>\n",
       "      <td>1</td>\n",
       "      <td>1</td>\n",
       "      <td>1</td>\n",
       "      <td>0</td>\n",
       "      <td>0</td>\n",
       "      <td>0</td>\n",
       "      <td>1</td>\n",
       "      <td>0</td>\n",
       "    </tr>\n",
       "    <tr>\n",
       "      <th>4</th>\n",
       "      <td>4</td>\n",
       "      <td>124000</td>\n",
       "      <td>360</td>\n",
       "      <td>2012-02-01</td>\n",
       "      <td>2012-04-01</td>\n",
       "      <td>80</td>\n",
       "      <td>1</td>\n",
       "      <td>43</td>\n",
       "      <td>681</td>\n",
       "      <td>0</td>\n",
       "      <td>0</td>\n",
       "      <td>0</td>\n",
       "      <td>0</td>\n",
       "      <td>1</td>\n",
       "      <td>2</td>\n",
       "      <td>3</td>\n",
       "      <td>4</td>\n",
       "      <td>5</td>\n",
       "      <td>6</td>\n",
       "      <td>7</td>\n",
       "      <td>8</td>\n",
       "      <td>9</td>\n",
       "      <td>10</td>\n",
       "      <td>11</td>\n",
       "      <td>1</td>\n",
       "      <td>1</td>\n",
       "      <td>0</td>\n",
       "      <td>0</td>\n",
       "      <td>0</td>\n",
       "      <td>0</td>\n",
       "      <td>1</td>\n",
       "    </tr>\n",
       "  </tbody>\n",
       "</table>\n",
       "</div>"
      ],
      "text/plain": [
       "   interest_rate  unpaid_principal_bal  loan_term origination_date  \\\n",
       "0              4                214000        360       2012-03-01   \n",
       "1              4                144000        360       2012-01-01   \n",
       "2              3                366000        180       2012-01-01   \n",
       "3              4                135000        360       2012-02-01   \n",
       "4              4                124000        360       2012-02-01   \n",
       "\n",
       "  first_payment_date  loan_to_value  number_of_borrowers  \\\n",
       "0         2012-05-01             95                    1   \n",
       "1         2012-03-01             72                    1   \n",
       "2         2012-03-01             49                    1   \n",
       "3         2012-04-01             46                    2   \n",
       "4         2012-04-01             80                    1   \n",
       "\n",
       "   debt_to_income_ratio  borrower_credit_score  insurance_percent  \\\n",
       "0                    22                    694                 30   \n",
       "1                    44                    697                  0   \n",
       "2                    33                    780                  0   \n",
       "3                    44                    633                  0   \n",
       "4                    43                    681                  0   \n",
       "\n",
       "   co-borrower_credit_score  insurance_type  m1  m2  m3  m4  m5  m6  m7  m8  \\\n",
       "0                         0               0   0   0   0   0   0   0   1   0   \n",
       "1                         0               0   0   0   0   0   0   0   0   0   \n",
       "2                         0               0   0   0   0   0   0   0   0   0   \n",
       "3                       638               0   0   0   0   0   0   0   0   0   \n",
       "4                         0               0   0   1   2   3   4   5   6   7   \n",
       "\n",
       "   m9  m10  m11  m12  m13  source_X  source_Y  source_Z  loan_purpose_A23  \\\n",
       "0   0    0    0    0    1         0         0         1                 0   \n",
       "1   0    0    1    0    1         0         1         0                 0   \n",
       "2   0    0    0    0    1         0         0         1                 0   \n",
       "3   1    1    1    1    1         1         0         0                 0   \n",
       "4   8    9   10   11    1         1         0         0                 0   \n",
       "\n",
       "   loan_purpose_B12  loan_purpose_C86  \n",
       "0                 0                 1  \n",
       "1                 1                 0  \n",
       "2                 1                 0  \n",
       "3                 1                 0  \n",
       "4                 0                 1  "
      ]
     },
     "execution_count": 248,
     "metadata": {},
     "output_type": "execute_result"
    }
   ],
   "source": [
    "df.head()"
   ]
  },
  {
   "cell_type": "code",
   "execution_count": 249,
   "metadata": {},
   "outputs": [],
   "source": [
    "X = df.drop(['origination_date','first_payment_date','m13'],axis=1)\n",
    "y=df['m13']"
   ]
  },
  {
   "cell_type": "code",
   "execution_count": 250,
   "metadata": {},
   "outputs": [],
   "source": [
    "from sklearn.model_selection import train_test_split\n",
    "\n",
    "X_train, X_val, y_train, y_val = train_test_split(X, y, test_size=0.33, random_state=42)\n",
    "\n",
    "from sklearn.linear_model import LogisticRegression\n",
    "LR = LogisticRegression()"
   ]
  },
  {
   "cell_type": "code",
   "execution_count": 161,
   "metadata": {},
   "outputs": [
    {
     "data": {
      "text/plain": [
       "LogisticRegression(C=1.0, class_weight=None, dual=False, fit_intercept=True,\n",
       "          intercept_scaling=1, max_iter=100, multi_class='ovr', n_jobs=1,\n",
       "          penalty='l2', random_state=None, solver='liblinear', tol=0.0001,\n",
       "          verbose=0, warm_start=False)"
      ]
     },
     "execution_count": 161,
     "metadata": {},
     "output_type": "execute_result"
    }
   ],
   "source": [
    "LR.fit(X_train,y_train)"
   ]
  },
  {
   "cell_type": "code",
   "execution_count": 162,
   "metadata": {},
   "outputs": [],
   "source": [
    "pred = LR.predict(X_val)"
   ]
  },
  {
   "cell_type": "code",
   "execution_count": 163,
   "metadata": {},
   "outputs": [],
   "source": [
    "from sklearn.metrics import classification_report,confusion_matrix,roc_auc_score,accuracy_score,precision_score,recall_score"
   ]
  },
  {
   "cell_type": "code",
   "execution_count": 164,
   "metadata": {},
   "outputs": [
    {
     "name": "stdout",
     "output_type": "stream",
     "text": [
      "0.4997636988998871\n",
      "             precision    recall  f1-score   support\n",
      "\n",
      "          0       0.99      1.00      1.00     38087\n",
      "          1       0.00      0.00      0.00       213\n",
      "\n",
      "avg / total       0.99      0.99      0.99     38300\n",
      "\n",
      "\n",
      "\n",
      "[[38069    18]\n",
      " [  213     0]]\n"
     ]
    }
   ],
   "source": [
    "print(roc_auc_score(y_val,pred))\n",
    "print(classification_report(y_val,pred))\n",
    "print('\\n')\n",
    "print(confusion_matrix(y_val,pred))\n",
    "\n"
   ]
  },
  {
   "cell_type": "code",
   "execution_count": 165,
   "metadata": {},
   "outputs": [
    {
     "data": {
      "text/plain": [
       "0    115422\n",
       "1       636\n",
       "Name: m13, dtype: int64"
      ]
     },
     "execution_count": 165,
     "metadata": {},
     "output_type": "execute_result"
    }
   ],
   "source": [
    "df['m13'].value_counts()"
   ]
  },
  {
   "cell_type": "markdown",
   "metadata": {},
   "source": [
    "# Smote Process to handle imbalanced dataset"
   ]
  },
  {
   "cell_type": "code",
   "execution_count": 252,
   "metadata": {},
   "outputs": [],
   "source": [
    "col = X_train.columns\n",
    "\n",
    "from imblearn.over_sampling import SMOTE\n",
    "os = SMOTE(random_state=0)\n",
    "x_os , y_os = os.fit_sample(X_train,y_train)\n",
    "\n",
    "X_train = pd.DataFrame(data=x_os,columns=col)\n",
    "y_train = pd.DataFrame(data=y_os,columns=['m13'])"
   ]
  },
  {
   "cell_type": "code",
   "execution_count": 167,
   "metadata": {},
   "outputs": [
    {
     "data": {
      "text/plain": [
       "LogisticRegression(C=1.0, class_weight=None, dual=False, fit_intercept=True,\n",
       "          intercept_scaling=1, max_iter=100, multi_class='ovr', n_jobs=1,\n",
       "          penalty='l2', random_state=None, solver='liblinear', tol=0.0001,\n",
       "          verbose=0, warm_start=False)"
      ]
     },
     "execution_count": 167,
     "metadata": {},
     "output_type": "execute_result"
    }
   ],
   "source": [
    "LR.fit(X_train,y_train)"
   ]
  },
  {
   "cell_type": "code",
   "execution_count": 168,
   "metadata": {},
   "outputs": [],
   "source": [
    "pred = LR.predict(X_val)"
   ]
  },
  {
   "cell_type": "code",
   "execution_count": 169,
   "metadata": {},
   "outputs": [
    {
     "name": "stdout",
     "output_type": "stream",
     "text": [
      "0.8047335042540978\n",
      "\n",
      "\n",
      "             precision    recall  f1-score   support\n",
      "\n",
      "          0       1.00      0.93      0.96     38087\n",
      "          1       0.05      0.68      0.09       213\n",
      "\n",
      "avg / total       0.99      0.93      0.96     38300\n",
      "\n",
      "\n",
      "\n",
      "[[35372  2715]\n",
      " [   68   145]]\n"
     ]
    }
   ],
   "source": [
    "print(roc_auc_score(y_val,pred))\n",
    "print('\\n')\n",
    "print(classification_report(y_val,pred))\n",
    "print('\\n')\n",
    "print(confusion_matrix(y_val,pred))\n",
    "\n"
   ]
  },
  {
   "cell_type": "markdown",
   "metadata": {},
   "source": [
    "# More Feature Engineering is required now"
   ]
  },
  {
   "cell_type": "code",
   "execution_count": 41,
   "metadata": {},
   "outputs": [
    {
     "data": {
      "text/html": [
       "<div>\n",
       "<style scoped>\n",
       "    .dataframe tbody tr th:only-of-type {\n",
       "        vertical-align: middle;\n",
       "    }\n",
       "\n",
       "    .dataframe tbody tr th {\n",
       "        vertical-align: top;\n",
       "    }\n",
       "\n",
       "    .dataframe thead th {\n",
       "        text-align: right;\n",
       "    }\n",
       "</style>\n",
       "<table border=\"1\" class=\"dataframe\">\n",
       "  <thead>\n",
       "    <tr style=\"text-align: right;\">\n",
       "      <th></th>\n",
       "      <th>interest_rate</th>\n",
       "      <th>unpaid_principal_bal</th>\n",
       "      <th>loan_term</th>\n",
       "      <th>origination_date</th>\n",
       "      <th>first_payment_date</th>\n",
       "      <th>loan_to_value</th>\n",
       "      <th>number_of_borrowers</th>\n",
       "      <th>debt_to_income_ratio</th>\n",
       "      <th>borrower_credit_score</th>\n",
       "      <th>insurance_percent</th>\n",
       "      <th>co-borrower_credit_score</th>\n",
       "      <th>insurance_type</th>\n",
       "      <th>m1</th>\n",
       "      <th>m2</th>\n",
       "      <th>m3</th>\n",
       "      <th>m4</th>\n",
       "      <th>m5</th>\n",
       "      <th>m6</th>\n",
       "      <th>m7</th>\n",
       "      <th>m8</th>\n",
       "      <th>m9</th>\n",
       "      <th>m10</th>\n",
       "      <th>m11</th>\n",
       "      <th>m12</th>\n",
       "      <th>m13</th>\n",
       "      <th>source_X</th>\n",
       "      <th>source_Y</th>\n",
       "      <th>source_Z</th>\n",
       "      <th>loan_purpose_A23</th>\n",
       "      <th>loan_purpose_B12</th>\n",
       "      <th>loan_purpose_C86</th>\n",
       "    </tr>\n",
       "  </thead>\n",
       "  <tbody>\n",
       "    <tr>\n",
       "      <th>0</th>\n",
       "      <td>4</td>\n",
       "      <td>214000</td>\n",
       "      <td>360</td>\n",
       "      <td>2012-03-01</td>\n",
       "      <td>2012-05-01</td>\n",
       "      <td>95</td>\n",
       "      <td>1</td>\n",
       "      <td>22</td>\n",
       "      <td>694</td>\n",
       "      <td>30</td>\n",
       "      <td>0</td>\n",
       "      <td>0</td>\n",
       "      <td>0</td>\n",
       "      <td>0</td>\n",
       "      <td>0</td>\n",
       "      <td>0</td>\n",
       "      <td>0</td>\n",
       "      <td>0</td>\n",
       "      <td>1</td>\n",
       "      <td>0</td>\n",
       "      <td>0</td>\n",
       "      <td>0</td>\n",
       "      <td>0</td>\n",
       "      <td>0</td>\n",
       "      <td>1</td>\n",
       "      <td>0</td>\n",
       "      <td>0</td>\n",
       "      <td>1</td>\n",
       "      <td>0</td>\n",
       "      <td>0</td>\n",
       "      <td>1</td>\n",
       "    </tr>\n",
       "    <tr>\n",
       "      <th>1</th>\n",
       "      <td>4</td>\n",
       "      <td>144000</td>\n",
       "      <td>360</td>\n",
       "      <td>2012-01-01</td>\n",
       "      <td>2012-03-01</td>\n",
       "      <td>72</td>\n",
       "      <td>1</td>\n",
       "      <td>44</td>\n",
       "      <td>697</td>\n",
       "      <td>0</td>\n",
       "      <td>0</td>\n",
       "      <td>0</td>\n",
       "      <td>0</td>\n",
       "      <td>0</td>\n",
       "      <td>0</td>\n",
       "      <td>0</td>\n",
       "      <td>0</td>\n",
       "      <td>0</td>\n",
       "      <td>0</td>\n",
       "      <td>0</td>\n",
       "      <td>0</td>\n",
       "      <td>0</td>\n",
       "      <td>1</td>\n",
       "      <td>0</td>\n",
       "      <td>1</td>\n",
       "      <td>0</td>\n",
       "      <td>1</td>\n",
       "      <td>0</td>\n",
       "      <td>0</td>\n",
       "      <td>1</td>\n",
       "      <td>0</td>\n",
       "    </tr>\n",
       "    <tr>\n",
       "      <th>2</th>\n",
       "      <td>3</td>\n",
       "      <td>366000</td>\n",
       "      <td>180</td>\n",
       "      <td>2012-01-01</td>\n",
       "      <td>2012-03-01</td>\n",
       "      <td>49</td>\n",
       "      <td>1</td>\n",
       "      <td>33</td>\n",
       "      <td>780</td>\n",
       "      <td>0</td>\n",
       "      <td>0</td>\n",
       "      <td>0</td>\n",
       "      <td>0</td>\n",
       "      <td>0</td>\n",
       "      <td>0</td>\n",
       "      <td>0</td>\n",
       "      <td>0</td>\n",
       "      <td>0</td>\n",
       "      <td>0</td>\n",
       "      <td>0</td>\n",
       "      <td>0</td>\n",
       "      <td>0</td>\n",
       "      <td>0</td>\n",
       "      <td>0</td>\n",
       "      <td>1</td>\n",
       "      <td>0</td>\n",
       "      <td>0</td>\n",
       "      <td>1</td>\n",
       "      <td>0</td>\n",
       "      <td>1</td>\n",
       "      <td>0</td>\n",
       "    </tr>\n",
       "    <tr>\n",
       "      <th>3</th>\n",
       "      <td>4</td>\n",
       "      <td>135000</td>\n",
       "      <td>360</td>\n",
       "      <td>2012-02-01</td>\n",
       "      <td>2012-04-01</td>\n",
       "      <td>46</td>\n",
       "      <td>2</td>\n",
       "      <td>44</td>\n",
       "      <td>633</td>\n",
       "      <td>0</td>\n",
       "      <td>638</td>\n",
       "      <td>0</td>\n",
       "      <td>0</td>\n",
       "      <td>0</td>\n",
       "      <td>0</td>\n",
       "      <td>0</td>\n",
       "      <td>0</td>\n",
       "      <td>0</td>\n",
       "      <td>0</td>\n",
       "      <td>0</td>\n",
       "      <td>1</td>\n",
       "      <td>1</td>\n",
       "      <td>1</td>\n",
       "      <td>1</td>\n",
       "      <td>1</td>\n",
       "      <td>1</td>\n",
       "      <td>0</td>\n",
       "      <td>0</td>\n",
       "      <td>0</td>\n",
       "      <td>1</td>\n",
       "      <td>0</td>\n",
       "    </tr>\n",
       "    <tr>\n",
       "      <th>4</th>\n",
       "      <td>4</td>\n",
       "      <td>124000</td>\n",
       "      <td>360</td>\n",
       "      <td>2012-02-01</td>\n",
       "      <td>2012-04-01</td>\n",
       "      <td>80</td>\n",
       "      <td>1</td>\n",
       "      <td>43</td>\n",
       "      <td>681</td>\n",
       "      <td>0</td>\n",
       "      <td>0</td>\n",
       "      <td>0</td>\n",
       "      <td>0</td>\n",
       "      <td>1</td>\n",
       "      <td>2</td>\n",
       "      <td>3</td>\n",
       "      <td>4</td>\n",
       "      <td>5</td>\n",
       "      <td>6</td>\n",
       "      <td>7</td>\n",
       "      <td>8</td>\n",
       "      <td>9</td>\n",
       "      <td>10</td>\n",
       "      <td>11</td>\n",
       "      <td>1</td>\n",
       "      <td>1</td>\n",
       "      <td>0</td>\n",
       "      <td>0</td>\n",
       "      <td>0</td>\n",
       "      <td>0</td>\n",
       "      <td>1</td>\n",
       "    </tr>\n",
       "  </tbody>\n",
       "</table>\n",
       "</div>"
      ],
      "text/plain": [
       "   interest_rate  unpaid_principal_bal  loan_term origination_date  \\\n",
       "0              4                214000        360       2012-03-01   \n",
       "1              4                144000        360       2012-01-01   \n",
       "2              3                366000        180       2012-01-01   \n",
       "3              4                135000        360       2012-02-01   \n",
       "4              4                124000        360       2012-02-01   \n",
       "\n",
       "  first_payment_date  loan_to_value  number_of_borrowers  \\\n",
       "0         2012-05-01             95                    1   \n",
       "1         2012-03-01             72                    1   \n",
       "2         2012-03-01             49                    1   \n",
       "3         2012-04-01             46                    2   \n",
       "4         2012-04-01             80                    1   \n",
       "\n",
       "   debt_to_income_ratio  borrower_credit_score  insurance_percent  \\\n",
       "0                    22                    694                 30   \n",
       "1                    44                    697                  0   \n",
       "2                    33                    780                  0   \n",
       "3                    44                    633                  0   \n",
       "4                    43                    681                  0   \n",
       "\n",
       "   co-borrower_credit_score  insurance_type  m1  m2  m3  m4  m5  m6  m7  m8  \\\n",
       "0                         0               0   0   0   0   0   0   0   1   0   \n",
       "1                         0               0   0   0   0   0   0   0   0   0   \n",
       "2                         0               0   0   0   0   0   0   0   0   0   \n",
       "3                       638               0   0   0   0   0   0   0   0   0   \n",
       "4                         0               0   0   1   2   3   4   5   6   7   \n",
       "\n",
       "   m9  m10  m11  m12  m13  source_X  source_Y  source_Z  loan_purpose_A23  \\\n",
       "0   0    0    0    0    1         0         0         1                 0   \n",
       "1   0    0    1    0    1         0         1         0                 0   \n",
       "2   0    0    0    0    1         0         0         1                 0   \n",
       "3   1    1    1    1    1         1         0         0                 0   \n",
       "4   8    9   10   11    1         1         0         0                 0   \n",
       "\n",
       "   loan_purpose_B12  loan_purpose_C86  \n",
       "0                 0                 1  \n",
       "1                 1                 0  \n",
       "2                 1                 0  \n",
       "3                 1                 0  \n",
       "4                 0                 1  "
      ]
     },
     "execution_count": 41,
     "metadata": {},
     "output_type": "execute_result"
    }
   ],
   "source": [
    "df.head()"
   ]
  },
  {
   "cell_type": "code",
   "execution_count": 42,
   "metadata": {},
   "outputs": [
    {
     "data": {
      "text/plain": [
       "<matplotlib.axes._subplots.AxesSubplot at 0x840495ff60>"
      ]
     },
     "execution_count": 42,
     "metadata": {},
     "output_type": "execute_result"
    },
    {
     "data": {
      "image/png": "[encoded data removed]",
      "text/plain": [
       "<matplotlib.figure.Figure at 0x8402d706a0>"
      ]
     },
     "metadata": {},
     "output_type": "display_data"
    }
   ],
   "source": [
    "sns.distplot(df['unpaid_principal_bal'])"
   ]
  },
  {
   "cell_type": "code",
   "execution_count": 253,
   "metadata": {},
   "outputs": [],
   "source": [
    "df['unpaid_principal_bal_log'] = np.log(df['unpaid_principal_bal'])"
   ]
  },
  {
   "cell_type": "code",
   "execution_count": 171,
   "metadata": {},
   "outputs": [
    {
     "data": {
      "text/plain": [
       "<matplotlib.axes._subplots.AxesSubplot at 0x8408ed8d30>"
      ]
     },
     "execution_count": 171,
     "metadata": {},
     "output_type": "execute_result"
    },
    {
     "data": {
      "image/png": "[encoded data removed]",
      "text/plain": [
       "<matplotlib.figure.Figure at 0x840d139390>"
      ]
     },
     "metadata": {},
     "output_type": "display_data"
    }
   ],
   "source": [
    "sns.distplot(df['unpaid_principal_bal_log'])"
   ]
  },
  {
   "cell_type": "code",
   "execution_count": 254,
   "metadata": {},
   "outputs": [],
   "source": [
    "df.drop(['unpaid_principal_bal'],axis=1,inplace=True)"
   ]
  },
  {
   "cell_type": "code",
   "execution_count": 255,
   "metadata": {},
   "outputs": [],
   "source": [
    "df_final2 = df"
   ]
  },
  {
   "cell_type": "code",
   "execution_count": 256,
   "metadata": {},
   "outputs": [],
   "source": [
    "X = df.drop(['origination_date','first_payment_date','m13'],axis=1)\n",
    "y=df['m13']"
   ]
  },
  {
   "cell_type": "code",
   "execution_count": 257,
   "metadata": {},
   "outputs": [],
   "source": [
    "X_train, X_val, y_train, y_val = train_test_split(X, y, test_size=0.33, random_state=42)"
   ]
  },
  {
   "cell_type": "code",
   "execution_count": null,
   "metadata": {},
   "outputs": [],
   "source": []
  },
  {
   "cell_type": "code",
   "execution_count": 258,
   "metadata": {},
   "outputs": [],
   "source": [
    "col = X_train.columns\n",
    "\n",
    "from imblearn.over_sampling import SMOTE\n",
    "os = SMOTE(random_state=0)\n",
    "x_os , y_os = os.fit_sample(X_train,y_train)\n",
    "\n",
    "X_train = pd.DataFrame(data=x_os,columns=col)\n",
    "y_train = pd.DataFrame(data=y_os,columns=['m13'])"
   ]
  },
  {
   "cell_type": "code",
   "execution_count": 177,
   "metadata": {},
   "outputs": [
    {
     "data": {
      "text/plain": [
       "LogisticRegression(C=1.0, class_weight=None, dual=False, fit_intercept=True,\n",
       "          intercept_scaling=1, max_iter=100, multi_class='ovr', n_jobs=1,\n",
       "          penalty='l2', random_state=None, solver='liblinear', tol=0.0001,\n",
       "          verbose=0, warm_start=False)"
      ]
     },
     "execution_count": 177,
     "metadata": {},
     "output_type": "execute_result"
    }
   ],
   "source": [
    "LR.fit(X_train,y_train)"
   ]
  },
  {
   "cell_type": "code",
   "execution_count": 178,
   "metadata": {},
   "outputs": [],
   "source": [
    "pred = LR.predict(X_val)"
   ]
  },
  {
   "cell_type": "code",
   "execution_count": 179,
   "metadata": {},
   "outputs": [
    {
     "name": "stdout",
     "output_type": "stream",
     "text": [
      "0.7994881622024003\n",
      "\n",
      "\n",
      "             precision    recall  f1-score   support\n",
      "\n",
      "          0       1.00      0.98      0.99     38087\n",
      "          1       0.14      0.62      0.23       213\n",
      "\n",
      "avg / total       0.99      0.98      0.98     38300\n",
      "\n",
      "\n",
      "\n",
      "[[37297   790]\n",
      " [   81   132]]\n"
     ]
    }
   ],
   "source": [
    "print(roc_auc_score(y_val,pred))\n",
    "print('\\n')\n",
    "print(classification_report(y_val,pred))\n",
    "print('\\n')\n",
    "print(confusion_matrix(y_val,pred))\n",
    "\n"
   ]
  },
  {
   "cell_type": "code",
   "execution_count": 180,
   "metadata": {},
   "outputs": [
    {
     "data": {
      "text/plain": [
       "0.7994881622024003"
      ]
     },
     "execution_count": 180,
     "metadata": {},
     "output_type": "execute_result"
    }
   ],
   "source": [
    "roc_auc_score(y_val,pred)"
   ]
  },
  {
   "cell_type": "markdown",
   "metadata": {},
   "source": [
    "## Feature Scaling"
   ]
  },
  {
   "cell_type": "code",
   "execution_count": 79,
   "metadata": {},
   "outputs": [],
   "source": [
    "X = df.drop(['origination_  date','first_payment_date','m13'],axis=1)\n",
    "y=df['m13']"
   ]
  },
  {
   "cell_type": "code",
   "execution_count": 80,
   "metadata": {},
   "outputs": [],
   "source": [
    "X_train, X_val, y_train, y_val = train_test_split(X, y, test_size=0.33, random_state=42)"
   ]
  },
  {
   "cell_type": "code",
   "execution_count": 81,
   "metadata": {},
   "outputs": [],
   "source": [
    "col = X_train.columns\n",
    "\n",
    "from imblearn.over_sampling import SMOTE\n",
    "os = SMOTE(random_state=32)\n",
    "x_os , y_os = os.fit_sample(X_train,y_train)\n",
    "\n",
    "X_train = pd.DataFrame(data=x_os,columns=col)\n",
    "y_train = pd.DataFrame(data=y_os,columns=['m13'])"
   ]
  },
  {
   "cell_type": "code",
   "execution_count": 57,
   "metadata": {},
   "outputs": [],
   "source": [
    "from sklearn.preprocessing import StandardScaler\n",
    "slc= StandardScaler()\n",
    "\n",
    "col = X_train.columns\n",
    "\n",
    "X_train = slc.fit_transform(X_train)\n",
    "\n",
    "X_train = pd.DataFrame(X_train,columns=col)"
   ]
  },
  {
   "cell_type": "code",
   "execution_count": 58,
   "metadata": {},
   "outputs": [
    {
     "data": {
      "text/plain": [
       "LogisticRegression(C=1.0, class_weight=None, dual=False, fit_intercept=True,\n",
       "          intercept_scaling=1, max_iter=100, multi_class='ovr', n_jobs=1,\n",
       "          penalty='l2', random_state=None, solver='liblinear', tol=0.0001,\n",
       "          verbose=0, warm_start=False)"
      ]
     },
     "execution_count": 58,
     "metadata": {},
     "output_type": "execute_result"
    }
   ],
   "source": [
    "LR.fit(X_train,y_train)"
   ]
  },
  {
   "cell_type": "code",
   "execution_count": 59,
   "metadata": {},
   "outputs": [],
   "source": [
    "pred = LR.predict(X_val)"
   ]
  },
  {
   "cell_type": "code",
   "execution_count": 60,
   "metadata": {},
   "outputs": [
    {
     "name": "stdout",
     "output_type": "stream",
     "text": [
      "0.5\n",
      "\n",
      "\n",
      "             precision    recall  f1-score   support\n",
      "\n",
      "          0       0.99      1.00      1.00     38087\n",
      "          1       0.00      0.00      0.00       213\n",
      "\n",
      "avg / total       0.99      0.99      0.99     38300\n",
      "\n",
      "\n",
      "\n",
      "[[38087     0]\n",
      " [  213     0]]\n"
     ]
    }
   ],
   "source": [
    "print(roc_auc_score(y_val,pred))\n",
    "print('\\n')\n",
    "print(classification_report(y_val,pred))\n",
    "print('\\n')\n",
    "print(confusion_matrix(y_val,pred))"
   ]
  },
  {
   "cell_type": "markdown",
   "metadata": {},
   "source": [
    "### Feature Scaling Does not help here"
   ]
  },
  {
   "cell_type": "code",
   "execution_count": 61,
   "metadata": {},
   "outputs": [
    {
     "data": {
      "text/html": [
       "<div>\n",
       "<style scoped>\n",
       "    .dataframe tbody tr th:only-of-type {\n",
       "        vertical-align: middle;\n",
       "    }\n",
       "\n",
       "    .dataframe tbody tr th {\n",
       "        vertical-align: top;\n",
       "    }\n",
       "\n",
       "    .dataframe thead th {\n",
       "        text-align: right;\n",
       "    }\n",
       "</style>\n",
       "<table border=\"1\" class=\"dataframe\">\n",
       "  <thead>\n",
       "    <tr style=\"text-align: right;\">\n",
       "      <th></th>\n",
       "      <th>interest_rate</th>\n",
       "      <th>loan_term</th>\n",
       "      <th>origination_date</th>\n",
       "      <th>first_payment_date</th>\n",
       "      <th>loan_to_value</th>\n",
       "      <th>number_of_borrowers</th>\n",
       "      <th>debt_to_income_ratio</th>\n",
       "      <th>borrower_credit_score</th>\n",
       "      <th>insurance_percent</th>\n",
       "      <th>co-borrower_credit_score</th>\n",
       "      <th>insurance_type</th>\n",
       "      <th>m1</th>\n",
       "      <th>m2</th>\n",
       "      <th>m3</th>\n",
       "      <th>m4</th>\n",
       "      <th>m5</th>\n",
       "      <th>m6</th>\n",
       "      <th>m7</th>\n",
       "      <th>m8</th>\n",
       "      <th>m9</th>\n",
       "      <th>m10</th>\n",
       "      <th>m11</th>\n",
       "      <th>m12</th>\n",
       "      <th>m13</th>\n",
       "      <th>source_X</th>\n",
       "      <th>source_Y</th>\n",
       "      <th>source_Z</th>\n",
       "      <th>loan_purpose_A23</th>\n",
       "      <th>loan_purpose_B12</th>\n",
       "      <th>loan_purpose_C86</th>\n",
       "      <th>unpaid_principal_bal_log</th>\n",
       "    </tr>\n",
       "  </thead>\n",
       "  <tbody>\n",
       "    <tr>\n",
       "      <th>0</th>\n",
       "      <td>4</td>\n",
       "      <td>360</td>\n",
       "      <td>2012-03-01</td>\n",
       "      <td>2012-05-01</td>\n",
       "      <td>95</td>\n",
       "      <td>1</td>\n",
       "      <td>22</td>\n",
       "      <td>694</td>\n",
       "      <td>30</td>\n",
       "      <td>0</td>\n",
       "      <td>0</td>\n",
       "      <td>0</td>\n",
       "      <td>0</td>\n",
       "      <td>0</td>\n",
       "      <td>0</td>\n",
       "      <td>0</td>\n",
       "      <td>0</td>\n",
       "      <td>1</td>\n",
       "      <td>0</td>\n",
       "      <td>0</td>\n",
       "      <td>0</td>\n",
       "      <td>0</td>\n",
       "      <td>0</td>\n",
       "      <td>1</td>\n",
       "      <td>0</td>\n",
       "      <td>0</td>\n",
       "      <td>1</td>\n",
       "      <td>0</td>\n",
       "      <td>0</td>\n",
       "      <td>1</td>\n",
       "      <td>12.273731</td>\n",
       "    </tr>\n",
       "    <tr>\n",
       "      <th>1</th>\n",
       "      <td>4</td>\n",
       "      <td>360</td>\n",
       "      <td>2012-01-01</td>\n",
       "      <td>2012-03-01</td>\n",
       "      <td>72</td>\n",
       "      <td>1</td>\n",
       "      <td>44</td>\n",
       "      <td>697</td>\n",
       "      <td>0</td>\n",
       "      <td>0</td>\n",
       "      <td>0</td>\n",
       "      <td>0</td>\n",
       "      <td>0</td>\n",
       "      <td>0</td>\n",
       "      <td>0</td>\n",
       "      <td>0</td>\n",
       "      <td>0</td>\n",
       "      <td>0</td>\n",
       "      <td>0</td>\n",
       "      <td>0</td>\n",
       "      <td>0</td>\n",
       "      <td>1</td>\n",
       "      <td>0</td>\n",
       "      <td>1</td>\n",
       "      <td>0</td>\n",
       "      <td>1</td>\n",
       "      <td>0</td>\n",
       "      <td>0</td>\n",
       "      <td>1</td>\n",
       "      <td>0</td>\n",
       "      <td>11.877569</td>\n",
       "    </tr>\n",
       "    <tr>\n",
       "      <th>2</th>\n",
       "      <td>3</td>\n",
       "      <td>180</td>\n",
       "      <td>2012-01-01</td>\n",
       "      <td>2012-03-01</td>\n",
       "      <td>49</td>\n",
       "      <td>1</td>\n",
       "      <td>33</td>\n",
       "      <td>780</td>\n",
       "      <td>0</td>\n",
       "      <td>0</td>\n",
       "      <td>0</td>\n",
       "      <td>0</td>\n",
       "      <td>0</td>\n",
       "      <td>0</td>\n",
       "      <td>0</td>\n",
       "      <td>0</td>\n",
       "      <td>0</td>\n",
       "      <td>0</td>\n",
       "      <td>0</td>\n",
       "      <td>0</td>\n",
       "      <td>0</td>\n",
       "      <td>0</td>\n",
       "      <td>0</td>\n",
       "      <td>1</td>\n",
       "      <td>0</td>\n",
       "      <td>0</td>\n",
       "      <td>1</td>\n",
       "      <td>0</td>\n",
       "      <td>1</td>\n",
       "      <td>0</td>\n",
       "      <td>12.810389</td>\n",
       "    </tr>\n",
       "    <tr>\n",
       "      <th>3</th>\n",
       "      <td>4</td>\n",
       "      <td>360</td>\n",
       "      <td>2012-02-01</td>\n",
       "      <td>2012-04-01</td>\n",
       "      <td>46</td>\n",
       "      <td>2</td>\n",
       "      <td>44</td>\n",
       "      <td>633</td>\n",
       "      <td>0</td>\n",
       "      <td>638</td>\n",
       "      <td>0</td>\n",
       "      <td>0</td>\n",
       "      <td>0</td>\n",
       "      <td>0</td>\n",
       "      <td>0</td>\n",
       "      <td>0</td>\n",
       "      <td>0</td>\n",
       "      <td>0</td>\n",
       "      <td>0</td>\n",
       "      <td>1</td>\n",
       "      <td>1</td>\n",
       "      <td>1</td>\n",
       "      <td>1</td>\n",
       "      <td>1</td>\n",
       "      <td>1</td>\n",
       "      <td>0</td>\n",
       "      <td>0</td>\n",
       "      <td>0</td>\n",
       "      <td>1</td>\n",
       "      <td>0</td>\n",
       "      <td>11.813030</td>\n",
       "    </tr>\n",
       "    <tr>\n",
       "      <th>4</th>\n",
       "      <td>4</td>\n",
       "      <td>360</td>\n",
       "      <td>2012-02-01</td>\n",
       "      <td>2012-04-01</td>\n",
       "      <td>80</td>\n",
       "      <td>1</td>\n",
       "      <td>43</td>\n",
       "      <td>681</td>\n",
       "      <td>0</td>\n",
       "      <td>0</td>\n",
       "      <td>0</td>\n",
       "      <td>0</td>\n",
       "      <td>1</td>\n",
       "      <td>2</td>\n",
       "      <td>3</td>\n",
       "      <td>4</td>\n",
       "      <td>5</td>\n",
       "      <td>6</td>\n",
       "      <td>7</td>\n",
       "      <td>8</td>\n",
       "      <td>9</td>\n",
       "      <td>10</td>\n",
       "      <td>11</td>\n",
       "      <td>1</td>\n",
       "      <td>1</td>\n",
       "      <td>0</td>\n",
       "      <td>0</td>\n",
       "      <td>0</td>\n",
       "      <td>0</td>\n",
       "      <td>1</td>\n",
       "      <td>11.728037</td>\n",
       "    </tr>\n",
       "  </tbody>\n",
       "</table>\n",
       "</div>"
      ],
      "text/plain": [
       "   interest_rate  loan_term origination_date first_payment_date  \\\n",
       "0              4        360       2012-03-01         2012-05-01   \n",
       "1              4        360       2012-01-01         2012-03-01   \n",
       "2              3        180       2012-01-01         2012-03-01   \n",
       "3              4        360       2012-02-01         2012-04-01   \n",
       "4              4        360       2012-02-01         2012-04-01   \n",
       "\n",
       "   loan_to_value  number_of_borrowers  debt_to_income_ratio  \\\n",
       "0             95                    1                    22   \n",
       "1             72                    1                    44   \n",
       "2             49                    1                    33   \n",
       "3             46                    2                    44   \n",
       "4             80                    1                    43   \n",
       "\n",
       "   borrower_credit_score  insurance_percent  co-borrower_credit_score  \\\n",
       "0                    694                 30                         0   \n",
       "1                    697                  0                         0   \n",
       "2                    780                  0                         0   \n",
       "3                    633                  0                       638   \n",
       "4                    681                  0                         0   \n",
       "\n",
       "   insurance_type  m1  m2  m3  m4  m5  m6  m7  m8  m9  m10  m11  m12  m13  \\\n",
       "0               0   0   0   0   0   0   0   1   0   0    0    0    0    1   \n",
       "1               0   0   0   0   0   0   0   0   0   0    0    1    0    1   \n",
       "2               0   0   0   0   0   0   0   0   0   0    0    0    0    1   \n",
       "3               0   0   0   0   0   0   0   0   0   1    1    1    1    1   \n",
       "4               0   0   1   2   3   4   5   6   7   8    9   10   11    1   \n",
       "\n",
       "   source_X  source_Y  source_Z  loan_purpose_A23  loan_purpose_B12  \\\n",
       "0         0         0         1                 0                 0   \n",
       "1         0         1         0                 0                 1   \n",
       "2         0         0         1                 0                 1   \n",
       "3         1         0         0                 0                 1   \n",
       "4         1         0         0                 0                 0   \n",
       "\n",
       "   loan_purpose_C86  unpaid_principal_bal_log  \n",
       "0                 1                 12.273731  \n",
       "1                 0                 11.877569  \n",
       "2                 0                 12.810389  \n",
       "3                 0                 11.813030  \n",
       "4                 1                 11.728037  "
      ]
     },
     "execution_count": 61,
     "metadata": {},
     "output_type": "execute_result"
    }
   ],
   "source": [
    "df.head()"
   ]
  },
  {
   "cell_type": "markdown",
   "metadata": {},
   "source": [
    "# With XGBoost"
   ]
  },
  {
   "cell_type": "code",
   "execution_count": 93,
   "metadata": {},
   "outputs": [
    {
     "data": {
      "text/html": [
       "<div>\n",
       "<style scoped>\n",
       "    .dataframe tbody tr th:only-of-type {\n",
       "        vertical-align: middle;\n",
       "    }\n",
       "\n",
       "    .dataframe tbody tr th {\n",
       "        vertical-align: top;\n",
       "    }\n",
       "\n",
       "    .dataframe thead th {\n",
       "        text-align: right;\n",
       "    }\n",
       "</style>\n",
       "<table border=\"1\" class=\"dataframe\">\n",
       "  <thead>\n",
       "    <tr style=\"text-align: right;\">\n",
       "      <th></th>\n",
       "      <th>interest_rate</th>\n",
       "      <th>loan_term</th>\n",
       "      <th>origination_date</th>\n",
       "      <th>first_payment_date</th>\n",
       "      <th>loan_to_value</th>\n",
       "      <th>number_of_borrowers</th>\n",
       "      <th>debt_to_income_ratio</th>\n",
       "      <th>borrower_credit_score</th>\n",
       "      <th>insurance_percent</th>\n",
       "      <th>co-borrower_credit_score</th>\n",
       "      <th>insurance_type</th>\n",
       "      <th>m1</th>\n",
       "      <th>m2</th>\n",
       "      <th>m3</th>\n",
       "      <th>m4</th>\n",
       "      <th>m5</th>\n",
       "      <th>m6</th>\n",
       "      <th>m7</th>\n",
       "      <th>m8</th>\n",
       "      <th>m9</th>\n",
       "      <th>m10</th>\n",
       "      <th>m11</th>\n",
       "      <th>m12</th>\n",
       "      <th>m13</th>\n",
       "      <th>source_X</th>\n",
       "      <th>source_Y</th>\n",
       "      <th>source_Z</th>\n",
       "      <th>loan_purpose_A23</th>\n",
       "      <th>loan_purpose_B12</th>\n",
       "      <th>loan_purpose_C86</th>\n",
       "      <th>unpaid_principal_bal_log</th>\n",
       "    </tr>\n",
       "  </thead>\n",
       "  <tbody>\n",
       "    <tr>\n",
       "      <th>0</th>\n",
       "      <td>4</td>\n",
       "      <td>360</td>\n",
       "      <td>2012-03-01</td>\n",
       "      <td>2012-05-01</td>\n",
       "      <td>95</td>\n",
       "      <td>1</td>\n",
       "      <td>22</td>\n",
       "      <td>694</td>\n",
       "      <td>30</td>\n",
       "      <td>0</td>\n",
       "      <td>0</td>\n",
       "      <td>0</td>\n",
       "      <td>0</td>\n",
       "      <td>0</td>\n",
       "      <td>0</td>\n",
       "      <td>0</td>\n",
       "      <td>0</td>\n",
       "      <td>1</td>\n",
       "      <td>0</td>\n",
       "      <td>0</td>\n",
       "      <td>0</td>\n",
       "      <td>0</td>\n",
       "      <td>0</td>\n",
       "      <td>1</td>\n",
       "      <td>0</td>\n",
       "      <td>0</td>\n",
       "      <td>1</td>\n",
       "      <td>0</td>\n",
       "      <td>0</td>\n",
       "      <td>1</td>\n",
       "      <td>12.273731</td>\n",
       "    </tr>\n",
       "    <tr>\n",
       "      <th>1</th>\n",
       "      <td>4</td>\n",
       "      <td>360</td>\n",
       "      <td>2012-01-01</td>\n",
       "      <td>2012-03-01</td>\n",
       "      <td>72</td>\n",
       "      <td>1</td>\n",
       "      <td>44</td>\n",
       "      <td>697</td>\n",
       "      <td>0</td>\n",
       "      <td>0</td>\n",
       "      <td>0</td>\n",
       "      <td>0</td>\n",
       "      <td>0</td>\n",
       "      <td>0</td>\n",
       "      <td>0</td>\n",
       "      <td>0</td>\n",
       "      <td>0</td>\n",
       "      <td>0</td>\n",
       "      <td>0</td>\n",
       "      <td>0</td>\n",
       "      <td>0</td>\n",
       "      <td>1</td>\n",
       "      <td>0</td>\n",
       "      <td>1</td>\n",
       "      <td>0</td>\n",
       "      <td>1</td>\n",
       "      <td>0</td>\n",
       "      <td>0</td>\n",
       "      <td>1</td>\n",
       "      <td>0</td>\n",
       "      <td>11.877569</td>\n",
       "    </tr>\n",
       "    <tr>\n",
       "      <th>2</th>\n",
       "      <td>3</td>\n",
       "      <td>180</td>\n",
       "      <td>2012-01-01</td>\n",
       "      <td>2012-03-01</td>\n",
       "      <td>49</td>\n",
       "      <td>1</td>\n",
       "      <td>33</td>\n",
       "      <td>780</td>\n",
       "      <td>0</td>\n",
       "      <td>0</td>\n",
       "      <td>0</td>\n",
       "      <td>0</td>\n",
       "      <td>0</td>\n",
       "      <td>0</td>\n",
       "      <td>0</td>\n",
       "      <td>0</td>\n",
       "      <td>0</td>\n",
       "      <td>0</td>\n",
       "      <td>0</td>\n",
       "      <td>0</td>\n",
       "      <td>0</td>\n",
       "      <td>0</td>\n",
       "      <td>0</td>\n",
       "      <td>1</td>\n",
       "      <td>0</td>\n",
       "      <td>0</td>\n",
       "      <td>1</td>\n",
       "      <td>0</td>\n",
       "      <td>1</td>\n",
       "      <td>0</td>\n",
       "      <td>12.810389</td>\n",
       "    </tr>\n",
       "    <tr>\n",
       "      <th>3</th>\n",
       "      <td>4</td>\n",
       "      <td>360</td>\n",
       "      <td>2012-02-01</td>\n",
       "      <td>2012-04-01</td>\n",
       "      <td>46</td>\n",
       "      <td>2</td>\n",
       "      <td>44</td>\n",
       "      <td>633</td>\n",
       "      <td>0</td>\n",
       "      <td>638</td>\n",
       "      <td>0</td>\n",
       "      <td>0</td>\n",
       "      <td>0</td>\n",
       "      <td>0</td>\n",
       "      <td>0</td>\n",
       "      <td>0</td>\n",
       "      <td>0</td>\n",
       "      <td>0</td>\n",
       "      <td>0</td>\n",
       "      <td>1</td>\n",
       "      <td>1</td>\n",
       "      <td>1</td>\n",
       "      <td>1</td>\n",
       "      <td>1</td>\n",
       "      <td>1</td>\n",
       "      <td>0</td>\n",
       "      <td>0</td>\n",
       "      <td>0</td>\n",
       "      <td>1</td>\n",
       "      <td>0</td>\n",
       "      <td>11.813030</td>\n",
       "    </tr>\n",
       "    <tr>\n",
       "      <th>4</th>\n",
       "      <td>4</td>\n",
       "      <td>360</td>\n",
       "      <td>2012-02-01</td>\n",
       "      <td>2012-04-01</td>\n",
       "      <td>80</td>\n",
       "      <td>1</td>\n",
       "      <td>43</td>\n",
       "      <td>681</td>\n",
       "      <td>0</td>\n",
       "      <td>0</td>\n",
       "      <td>0</td>\n",
       "      <td>0</td>\n",
       "      <td>1</td>\n",
       "      <td>2</td>\n",
       "      <td>3</td>\n",
       "      <td>4</td>\n",
       "      <td>5</td>\n",
       "      <td>6</td>\n",
       "      <td>7</td>\n",
       "      <td>8</td>\n",
       "      <td>9</td>\n",
       "      <td>10</td>\n",
       "      <td>11</td>\n",
       "      <td>1</td>\n",
       "      <td>1</td>\n",
       "      <td>0</td>\n",
       "      <td>0</td>\n",
       "      <td>0</td>\n",
       "      <td>0</td>\n",
       "      <td>1</td>\n",
       "      <td>11.728037</td>\n",
       "    </tr>\n",
       "  </tbody>\n",
       "</table>\n",
       "</div>"
      ],
      "text/plain": [
       "   interest_rate  loan_term origination_date first_payment_date  \\\n",
       "0              4        360       2012-03-01         2012-05-01   \n",
       "1              4        360       2012-01-01         2012-03-01   \n",
       "2              3        180       2012-01-01         2012-03-01   \n",
       "3              4        360       2012-02-01         2012-04-01   \n",
       "4              4        360       2012-02-01         2012-04-01   \n",
       "\n",
       "   loan_to_value  number_of_borrowers  debt_to_income_ratio  \\\n",
       "0             95                    1                    22   \n",
       "1             72                    1                    44   \n",
       "2             49                    1                    33   \n",
       "3             46                    2                    44   \n",
       "4             80                    1                    43   \n",
       "\n",
       "   borrower_credit_score  insurance_percent  co-borrower_credit_score  \\\n",
       "0                    694                 30                         0   \n",
       "1                    697                  0                         0   \n",
       "2                    780                  0                         0   \n",
       "3                    633                  0                       638   \n",
       "4                    681                  0                         0   \n",
       "\n",
       "   insurance_type  m1  m2  m3  m4  m5  m6  m7  m8  m9  m10  m11  m12  m13  \\\n",
       "0               0   0   0   0   0   0   0   1   0   0    0    0    0    1   \n",
       "1               0   0   0   0   0   0   0   0   0   0    0    1    0    1   \n",
       "2               0   0   0   0   0   0   0   0   0   0    0    0    0    1   \n",
       "3               0   0   0   0   0   0   0   0   0   1    1    1    1    1   \n",
       "4               0   0   1   2   3   4   5   6   7   8    9   10   11    1   \n",
       "\n",
       "   source_X  source_Y  source_Z  loan_purpose_A23  loan_purpose_B12  \\\n",
       "0         0         0         1                 0                 0   \n",
       "1         0         1         0                 0                 1   \n",
       "2         0         0         1                 0                 1   \n",
       "3         1         0         0                 0                 1   \n",
       "4         1         0         0                 0                 0   \n",
       "\n",
       "   loan_purpose_C86  unpaid_principal_bal_log  \n",
       "0                 1                 12.273731  \n",
       "1                 0                 11.877569  \n",
       "2                 0                 12.810389  \n",
       "3                 0                 11.813030  \n",
       "4                 1                 11.728037  "
      ]
     },
     "execution_count": 93,
     "metadata": {},
     "output_type": "execute_result"
    }
   ],
   "source": [
    "df.head()"
   ]
  },
  {
   "cell_type": "code",
   "execution_count": null,
   "metadata": {},
   "outputs": [],
   "source": []
  },
  {
   "cell_type": "code",
   "execution_count": 259,
   "metadata": {},
   "outputs": [],
   "source": [
    "dtrain= df\n",
    "import xgboost as xgb\n",
    "from sklearn import cross_validation, metrics\n",
    "from sklearn.grid_search import GridSearchCV \n",
    "train = dtrain\n",
    "target = 'm13'"
   ]
  },
  {
   "cell_type": "code",
   "execution_count": 260,
   "metadata": {},
   "outputs": [],
   "source": [
    "def modelfit(alg, dtrain, predictors,useTrainCV=True, cv_folds=5, early_stopping_rounds=50):\n",
    "    \n",
    "    if useTrainCV:\n",
    "        xgb_param = alg.get_xgb_params()\n",
    "        xgtrain = xgb.DMatrix(dtrain[predictors].values, label=dtrain[target].values)\n",
    "        cvresult = xgb.cv(xgb_param, xgtrain, num_boost_round=alg.get_params()['n_estimators'],\n",
    "                          nfold=cv_folds,metrics='auc', early_stopping_rounds=early_stopping_rounds)\n",
    "        alg.set_params(n_estimators=cvresult.shape[0])\n",
    "    \n",
    "    #Fit the algorithm on the data\n",
    "    alg.fit(dtrain[predictors], dtrain['m13'],eval_metric='auc')\n",
    "        \n",
    "    #Predict training set:\n",
    "    dtrain_predictions = alg.predict(dtrain[predictors])\n",
    "    dtrain_predprob = alg.predict_proba(dtrain[predictors])[:,1]\n",
    "        \n",
    "    #Print model report:\n",
    "    print (\"\\nModel Report\")\n",
    "    print (\"Accuracy : %.4g\" % metrics.accuracy_score(dtrain['m13'].values, dtrain_predictions))\n",
    "    print (\"AUC Score (Train): %f\" % metrics.roc_auc_score(dtrain['m13'], dtrain_predprob))\n"
   ]
  },
  {
   "cell_type": "code",
   "execution_count": 261,
   "metadata": {},
   "outputs": [],
   "source": [
    "predictors = [x for x in df.columns if x not in ['origination_date','first_payment_date','m13']]"
   ]
  },
  {
   "cell_type": "code",
   "execution_count": null,
   "metadata": {},
   "outputs": [],
   "source": []
  },
  {
   "cell_type": "code",
   "execution_count": 99,
   "metadata": {},
   "outputs": [
    {
     "name": "stderr",
     "output_type": "stream",
     "text": [
      "D:\\Python\\Installation\\lib\\site-packages\\sklearn\\preprocessing\\label.py:151: DeprecationWarning: The truth value of an empty array is ambiguous. Returning False, but in future this will result in an error. Use `array.size > 0` to check that an array is not empty.\n",
      "  if diff:\n"
     ]
    },
    {
     "name": "stdout",
     "output_type": "stream",
     "text": [
      "\n",
      "Model Report\n",
      "Accuracy : 0.9969\n",
      "AUC Score (Train): 0.927812\n"
     ]
    }
   ],
   "source": [
    "#Choose all predictors except target & IDcols\n",
    "predictors = [x for x in df.columns if x not in ['origination_date','first_payment_date','m13']]\n",
    "xgb2 = XGBClassifier(learning_rate =0.1, n_estimators=1000, max_depth=5, min_child_weight=1, gamma=0, subsample=0.8,\n",
    "                     colsample_bytree=0.8, objective= 'binary:logistic', nthread=4, scale_pos_weight=1, seed=27)\n",
    "modelfit(xgb2, df, predictors)"
   ]
  },
  {
   "cell_type": "code",
   "execution_count": 100,
   "metadata": {},
   "outputs": [
    {
     "data": {
      "text/plain": [
       "([mean: 0.88975, std: 0.00762, params: {'max_depth': 3, 'min_child_weight': 1},\n",
       "  mean: 0.88847, std: 0.00783, params: {'max_depth': 3, 'min_child_weight': 3},\n",
       "  mean: 0.88646, std: 0.00766, params: {'max_depth': 3, 'min_child_weight': 5},\n",
       "  mean: 0.88611, std: 0.00784, params: {'max_depth': 5, 'min_child_weight': 1},\n",
       "  mean: 0.88426, std: 0.00679, params: {'max_depth': 5, 'min_child_weight': 3},\n",
       "  mean: 0.88372, std: 0.00760, params: {'max_depth': 5, 'min_child_weight': 5},\n",
       "  mean: 0.88182, std: 0.00663, params: {'max_depth': 7, 'min_child_weight': 1},\n",
       "  mean: 0.88222, std: 0.00684, params: {'max_depth': 7, 'min_child_weight': 3},\n",
       "  mean: 0.87864, std: 0.00809, params: {'max_depth': 7, 'min_child_weight': 5},\n",
       "  mean: 0.87991, std: 0.01227, params: {'max_depth': 9, 'min_child_weight': 1},\n",
       "  mean: 0.87811, std: 0.01352, params: {'max_depth': 9, 'min_child_weight': 3},\n",
       "  mean: 0.87783, std: 0.00898, params: {'max_depth': 9, 'min_child_weight': 5}],\n",
       " {'max_depth': 3, 'min_child_weight': 1},\n",
       " 0.8897458082612492)"
      ]
     },
     "execution_count": 100,
     "metadata": {},
     "output_type": "execute_result"
    }
   ],
   "source": [
    "param_test1 = { 'max_depth':list(range(3,10,2)), 'min_child_weight':list(range(1,6,2))}\n",
    "gsearch1 = GridSearchCV(estimator = XGBClassifier( learning_rate =0.1, n_estimators=140, max_depth=5,\n",
    "                                                  min_child_weight=1, gamma=0, subsample=0.8, colsample_bytree=0.8,\n",
    "                                                  objective= 'binary:logistic', nthread=4, scale_pos_weight=1, seed=27), \n",
    "                        param_grid = param_test1, scoring='roc_auc',n_jobs=4,iid=False, cv=5)\n",
    "gsearch1.fit(train[predictors],train[target])\n",
    "gsearch1.grid_scores_, gsearch1.best_params_, gsearch1.best_score_"
   ]
  },
  {
   "cell_type": "code",
   "execution_count": 101,
   "metadata": {},
   "outputs": [
    {
     "data": {
      "text/plain": [
       "([mean: 0.89161, std: 0.00934, params: {'max_depth': 2, 'min_child_weight': 0},\n",
       "  mean: 0.89198, std: 0.00859, params: {'max_depth': 2, 'min_child_weight': 1},\n",
       "  mean: 0.89170, std: 0.00935, params: {'max_depth': 2, 'min_child_weight': 2},\n",
       "  mean: 0.89229, std: 0.00901, params: {'max_depth': 2, 'min_child_weight': 3},\n",
       "  mean: 0.88916, std: 0.00648, params: {'max_depth': 3, 'min_child_weight': 0},\n",
       "  mean: 0.88975, std: 0.00762, params: {'max_depth': 3, 'min_child_weight': 1},\n",
       "  mean: 0.89014, std: 0.00821, params: {'max_depth': 3, 'min_child_weight': 2},\n",
       "  mean: 0.88847, std: 0.00783, params: {'max_depth': 3, 'min_child_weight': 3},\n",
       "  mean: 0.88757, std: 0.00702, params: {'max_depth': 4, 'min_child_weight': 0},\n",
       "  mean: 0.88891, std: 0.00911, params: {'max_depth': 4, 'min_child_weight': 1},\n",
       "  mean: 0.88882, std: 0.00770, params: {'max_depth': 4, 'min_child_weight': 2},\n",
       "  mean: 0.88774, std: 0.00583, params: {'max_depth': 4, 'min_child_weight': 3}],\n",
       " {'max_depth': 2, 'min_child_weight': 3},\n",
       " 0.8922883884543508)"
      ]
     },
     "execution_count": 101,
     "metadata": {},
     "output_type": "execute_result"
    }
   ],
   "source": [
    "param_test2 = { 'max_depth':[2,3,4], 'min_child_weight':[0,1,2,3] }\n",
    "gsearch2 = GridSearchCV(estimator = XGBClassifier( learning_rate=0.1, n_estimators=140, max_depth=5,\n",
    " min_child_weight=2, gamma=0, subsample=0.8, colsample_bytree=0.8,\n",
    " objective= 'binary:logistic', nthread=4, scale_pos_weight=1,seed=27), \n",
    " param_grid = param_test2, scoring='roc_auc',n_jobs=4,iid=False, cv=5)\n",
    "gsearch2.fit(train[predictors],train[target])\n",
    "gsearch2.grid_scores_, gsearch2.best_params_, gsearch2.best_score_"
   ]
  },
  {
   "cell_type": "code",
   "execution_count": 106,
   "metadata": {},
   "outputs": [
    {
     "data": {
      "text/plain": [
       "([mean: 0.87849, std: 0.01010, params: {'min_child_weight': 1},\n",
       "  mean: 0.87939, std: 0.00872, params: {'min_child_weight': 2},\n",
       "  mean: 0.87792, std: 0.00654, params: {'min_child_weight': 3},\n",
       "  mean: 0.87750, std: 0.00611, params: {'min_child_weight': 4},\n",
       "  mean: 0.87715, std: 0.00709, params: {'min_child_weight': 5}],\n",
       " {'min_child_weight': 2},\n",
       " 0.8793860863695983)"
      ]
     },
     "execution_count": 106,
     "metadata": {},
     "output_type": "execute_result"
    }
   ],
   "source": [
    "param_test2b = {\n",
    " 'min_child_weight':[1,2,3,4,5]\n",
    "}\n",
    "gsearch2b = GridSearchCV(estimator = XGBClassifier( learning_rate=0.1, n_estimators=140, max_depth=8,\n",
    " min_child_weight=2, gamma=0, subsample=0.8, colsample_bytree=0.8,\n",
    " objective= 'binary:logistic', nthread=4, scale_pos_weight=1,seed=27), \n",
    " param_grid = param_test2b, scoring='roc_auc',n_jobs=4,iid=False, cv=5)\n",
    "gsearch2b.fit(train[predictors],train[target])\n",
    "gsearch2b.grid_scores_, gsearch2b.best_params_, gsearch2b.best_score_"
   ]
  },
  {
   "cell_type": "code",
   "execution_count": 107,
   "metadata": {},
   "outputs": [
    {
     "data": {
      "text/plain": [
       "([mean: 0.87775, std: 0.00983, params: {'gamma': 0.0},\n",
       "  mean: 0.87575, std: 0.00838, params: {'gamma': 0.1},\n",
       "  mean: 0.87635, std: 0.00610, params: {'gamma': 0.2},\n",
       "  mean: 0.87897, std: 0.00923, params: {'gamma': 0.3},\n",
       "  mean: 0.87566, std: 0.00820, params: {'gamma': 0.4}],\n",
       " {'gamma': 0.3},\n",
       " 0.8789658430170334)"
      ]
     },
     "execution_count": 107,
     "metadata": {},
     "output_type": "execute_result"
    }
   ],
   "source": [
    "param_test3 = {\n",
    " 'gamma':[i/10.0 for i in range(0,5)]\n",
    "}\n",
    "gsearch3 = GridSearchCV(estimator = XGBClassifier( learning_rate =0.1, n_estimators=140, max_depth=8,\n",
    " min_child_weight=6, gamma=0, subsample=0.8, colsample_bytree=0.8,\n",
    " objective= 'binary:logistic', nthread=4, scale_pos_weight=1,seed=27), \n",
    " param_grid = param_test3, scoring='roc_auc',n_jobs=4,iid=False, cv=5)\n",
    "gsearch3.fit(train[predictors],train[target])\n",
    "gsearch3.grid_scores_, gsearch3.best_params_, gsearch3.best_score_"
   ]
  },
  {
   "cell_type": "code",
   "execution_count": 262,
   "metadata": {},
   "outputs": [
    {
     "data": {
      "text/plain": [
       "([mean: 0.87240, std: 0.00964, params: {'colsample_bytree': 0.6, 'subsample': 0.6},\n",
       "  mean: 0.87219, std: 0.00797, params: {'colsample_bytree': 0.6, 'subsample': 0.7},\n",
       "  mean: 0.87382, std: 0.00978, params: {'colsample_bytree': 0.6, 'subsample': 0.8},\n",
       "  mean: 0.87692, std: 0.00922, params: {'colsample_bytree': 0.6, 'subsample': 0.9},\n",
       "  mean: 0.86971, std: 0.00868, params: {'colsample_bytree': 0.7, 'subsample': 0.6},\n",
       "  mean: 0.87128, std: 0.00879, params: {'colsample_bytree': 0.7, 'subsample': 0.7},\n",
       "  mean: 0.87084, std: 0.00898, params: {'colsample_bytree': 0.7, 'subsample': 0.8},\n",
       "  mean: 0.87378, std: 0.01021, params: {'colsample_bytree': 0.7, 'subsample': 0.9},\n",
       "  mean: 0.87322, std: 0.00743, params: {'colsample_bytree': 0.8, 'subsample': 0.6},\n",
       "  mean: 0.87369, std: 0.00810, params: {'colsample_bytree': 0.8, 'subsample': 0.7},\n",
       "  mean: 0.87569, std: 0.00876, params: {'colsample_bytree': 0.8, 'subsample': 0.8},\n",
       "  mean: 0.87523, std: 0.01209, params: {'colsample_bytree': 0.8, 'subsample': 0.9},\n",
       "  mean: 0.87232, std: 0.01093, params: {'colsample_bytree': 0.9, 'subsample': 0.6},\n",
       "  mean: 0.87237, std: 0.00554, params: {'colsample_bytree': 0.9, 'subsample': 0.7},\n",
       "  mean: 0.87036, std: 0.00997, params: {'colsample_bytree': 0.9, 'subsample': 0.8},\n",
       "  mean: 0.87392, std: 0.00964, params: {'colsample_bytree': 0.9, 'subsample': 0.9}],\n",
       " {'colsample_bytree': 0.6, 'subsample': 0.9},\n",
       " 0.8769210270971906)"
      ]
     },
     "execution_count": 262,
     "metadata": {},
     "output_type": "execute_result"
    }
   ],
   "source": [
    "param_test4 = {\n",
    " 'subsample':[i/10.0 for i in range(6,10)],\n",
    " 'colsample_bytree':[i/10.0 for i in range(6,10)]\n",
    "}\n",
    "gsearch4 = GridSearchCV(estimator = XGBClassifier( learning_rate =0.1, n_estimators=177, max_depth=8,\n",
    " min_child_weight=6, gamma=0, subsample=0.8, colsample_bytree=0.8,\n",
    " objective= 'binary:logistic', nthread=4, scale_pos_weight=1,seed=27), \n",
    " param_grid = param_test4, scoring='roc_auc',n_jobs=4,iid=False, cv=5)\n",
    "gsearch4.fit(train[predictors],train[target]).\n",
    "gsearch4.grid_scores_, gsearch4.best_params_, gsearch4.best_score_"
   ]
  },
  {
   "cell_type": "code",
   "execution_count": 265,
   "metadata": {},
   "outputs": [
    {
     "data": {
      "text/plain": [
       "[0.5, 0.6, 0.7]"
      ]
     },
     "execution_count": 265,
     "metadata": {},
     "output_type": "execute_result"
    }
   ],
   "source": [
    "x= [i/10.0 for i in range(5,8)]\n",
    "x"
   ]
  },
  {
   "cell_type": "code",
   "execution_count": 266,
   "metadata": {},
   "outputs": [
    {
     "data": {
      "text/plain": [
       "([mean: 0.87240, std: 0.00964, params: {'colsample_bytree': 0.6, 'subsample': 0.6},\n",
       "  mean: 0.87219, std: 0.00797, params: {'colsample_bytree': 0.6, 'subsample': 0.7},\n",
       "  mean: 0.87382, std: 0.00978, params: {'colsample_bytree': 0.6, 'subsample': 0.8},\n",
       "  mean: 0.87692, std: 0.00922, params: {'colsample_bytree': 0.6, 'subsample': 0.9},\n",
       "  mean: 0.86971, std: 0.00868, params: {'colsample_bytree': 0.7, 'subsample': 0.6},\n",
       "  mean: 0.87128, std: 0.00879, params: {'colsample_bytree': 0.7, 'subsample': 0.7},\n",
       "  mean: 0.87084, std: 0.00898, params: {'colsample_bytree': 0.7, 'subsample': 0.8},\n",
       "  mean: 0.87378, std: 0.01021, params: {'colsample_bytree': 0.7, 'subsample': 0.9},\n",
       "  mean: 0.87322, std: 0.00743, params: {'colsample_bytree': 0.8, 'subsample': 0.6},\n",
       "  mean: 0.87369, std: 0.00810, params: {'colsample_bytree': 0.8, 'subsample': 0.7},\n",
       "  mean: 0.87569, std: 0.00876, params: {'colsample_bytree': 0.8, 'subsample': 0.8},\n",
       "  mean: 0.87523, std: 0.01209, params: {'colsample_bytree': 0.8, 'subsample': 0.9},\n",
       "  mean: 0.87232, std: 0.01093, params: {'colsample_bytree': 0.9, 'subsample': 0.6},\n",
       "  mean: 0.87237, std: 0.00554, params: {'colsample_bytree': 0.9, 'subsample': 0.7},\n",
       "  mean: 0.87036, std: 0.00997, params: {'colsample_bytree': 0.9, 'subsample': 0.8},\n",
       "  mean: 0.87392, std: 0.00964, params: {'colsample_bytree': 0.9, 'subsample': 0.9}],\n",
       " {'colsample_bytree': 0.6, 'subsample': 0.9},\n",
       " 0.8769210270971906)"
      ]
     },
     "execution_count": 266,
     "metadata": {},
     "output_type": "execute_result"
    }
   ],
   "source": [
    "param_test4a = {\n",
    " 'subsample':[i/10.0 for i in range(9,12)],\n",
    " 'colsample_bytree':[i/10.0 for i in range(5,8)]\n",
    "}\n",
    "gsearch4a = GridSearchCV(estimator = XGBClassifier( learning_rate =0.1, n_estimators=177, max_depth=8,\n",
    " min_child_weight=6, gamma=0.1, subsample=0.8, colsample_bytree=0.8,\n",
    " objective= 'binary:logistic', nthread=4, scale_pos_weight=1,seed=27), \n",
    " param_grid = param_test4, scoring='roc_auc',n_jobs=4,iid=False, cv=5)\n",
    "gsearch4.fit(train[predictors],train[target])\n",
    "gsearch4.grid_scores_, gsearch4.best_params_, gsearch4.best_score_"
   ]
  },
  {
   "cell_type": "code",
   "execution_count": 271,
   "metadata": {},
   "outputs": [
    {
     "data": {
      "text/plain": [
       "[0.55, 0.6, 0.65]"
      ]
     },
     "execution_count": 271,
     "metadata": {},
     "output_type": "execute_result"
    }
   ],
   "source": [
    "[i/100.0 for i in range(55,70,5)]"
   ]
  },
  {
   "cell_type": "code",
   "execution_count": 272,
   "metadata": {},
   "outputs": [
    {
     "data": {
      "text/plain": [
       "([mean: 0.87491, std: 0.00910, params: {'colsample_bytree': 0.55, 'subsample': 0.85},\n",
       "  mean: 0.87753, std: 0.01226, params: {'colsample_bytree': 0.55, 'subsample': 0.9},\n",
       "  mean: 0.87438, std: 0.01080, params: {'colsample_bytree': 0.55, 'subsample': 0.95},\n",
       "  mean: 0.87826, std: 0.01131, params: {'colsample_bytree': 0.55, 'subsample': 1.0},\n",
       "  mean: 0.87711, std: 0.01061, params: {'colsample_bytree': 0.6, 'subsample': 0.85},\n",
       "  mean: 0.87578, std: 0.01006, params: {'colsample_bytree': 0.6, 'subsample': 0.9},\n",
       "  mean: 0.87628, std: 0.00988, params: {'colsample_bytree': 0.6, 'subsample': 0.95},\n",
       "  mean: 0.87640, std: 0.01116, params: {'colsample_bytree': 0.6, 'subsample': 1.0},\n",
       "  mean: 0.87663, std: 0.01039, params: {'colsample_bytree': 0.65, 'subsample': 0.85},\n",
       "  mean: 0.87546, std: 0.01172, params: {'colsample_bytree': 0.65, 'subsample': 0.9},\n",
       "  mean: 0.87790, std: 0.00970, params: {'colsample_bytree': 0.65, 'subsample': 0.95},\n",
       "  mean: 0.87516, std: 0.00812, params: {'colsample_bytree': 0.65, 'subsample': 1.0}],\n",
       " {'colsample_bytree': 0.55, 'subsample': 1.0},\n",
       " 0.8782643886037628)"
      ]
     },
     "execution_count": 272,
     "metadata": {},
     "output_type": "execute_result"
    }
   ],
   "source": [
    "param_test5 = {\n",
    " 'subsample':[i/100.0 for i in range(85,105,5)],\n",
    " 'colsample_bytree':[i/100.0 for i in range(55,70,5)]\n",
    "}\n",
    "gsearch5 = GridSearchCV(estimator = XGBClassifier( learning_rate =0.1, n_estimators=177, max_depth=8,\n",
    " min_child_weight=6, gamma=0.1, subsample=0.8, colsample_bytree=0.8,\n",
    " objective= 'binary:logistic', nthread=4, scale_pos_weight=1,seed=27), \n",
    " param_grid = param_test5, scoring='roc_auc',n_jobs=4,iid=False, cv=5)\n",
    "gsearch5.fit(train[predictors],train[target])\n",
    "gsearch5.grid_scores_, gsearch5.best_params_, gsearch5.best_score_"
   ]
  },
  {
   "cell_type": "code",
   "execution_count": null,
   "metadata": {},
   "outputs": [],
   "source": []
  },
  {
   "cell_type": "code",
   "execution_count": null,
   "metadata": {},
   "outputs": [],
   "source": [
    "param_test6 = {\n",
    " 'reg_alpha':[1e-5, 1e-2, 0.1, 1, 100]\n",
    "}\n",
    "gsearch6 = GridSearchCV(estimator = XGBClassifier( learning_rate =0.1, n_estimators=177, max_depth=8,\n",
    " min_child_weight=6, gamma=0.1, subsample=0.95, colsample_bytree=0.95,\n",
    " objective= 'binary:logistic', nthread=4, scale_pos_weight=1,seed=27), \n",
    " param_grid = param_test6, scoring='roc_auc',n_jobs=4,iid=False, cv=5)\n",
    "gsearch6.fit(train[predictors],train[target])\n",
    "gsearch6.grid_scores_, gsearch6.best_params_, gsearch6.best_score_"
   ]
  },
  {
   "cell_type": "code",
   "execution_count": null,
   "metadata": {},
   "outputs": [],
   "source": []
  },
  {
   "cell_type": "code",
   "execution_count": null,
   "metadata": {},
   "outputs": [],
   "source": [
    "param_test6a = {\n",
    " 'reg_alpha':[1,2,3,4,5]\n",
    "}\n",
    "gsearch6a = GridSearchCV(estimator = XGBClassifier( learning_rate =0.1, n_estimators=177, max_depth=8,\n",
    " min_child_weight=6, gamma=0.1, subsample=0.95, colsample_bytree=0.95,\n",
    " objective= 'binary:logistic', nthread=4, scale_pos_weight=1,seed=27), \n",
    " param_grid = param_test6a, scoring='roc_auc',n_jobs=4,iid=False, cv=5)\n",
    "gsearch6a.fit(train[predictors],train[target])\n",
    "gsearch6a.grid_scores_, gsearch6a.best_params_, gsearch6a.best_score_"
   ]
  },
  {
   "cell_type": "code",
   "execution_count": null,
   "metadata": {},
   "outputs": [],
   "source": []
  },
  {
   "cell_type": "code",
   "execution_count": null,
   "metadata": {},
   "outputs": [],
   "source": []
  },
  {
   "cell_type": "code",
   "execution_count": 108,
   "metadata": {},
   "outputs": [],
   "source": [
    "from xgboost.sklearn import XGBClassifier\n",
    "#xgb1 = XGBClassifier(learning_rate =0.1, n_estimators=1000, max_depth=8, min_child_weight=6, gamma=0.1, subsample=0.95,\n",
    "                     #colsample_bytree=0.95, reg_alpha=2, objective= 'binary:logistic', nthread=4, scale_pos_weight=1, seed=27)\n",
    "xgb1=XGBClassifier(learning_rate =0.1, n_estimators=1000, max_depth=2, min_child_weight=2, gamma=0.3, subsample=0.9,\n",
    "                     colsample_bytree=0.95,reg_alpha=2, objective= 'binary:logistic', nthread=4, scale_pos_weight=1, seed=27)"
   ]
  },
  {
   "cell_type": "code",
   "execution_count": 109,
   "metadata": {},
   "outputs": [
    {
     "data": {
      "text/plain": [
       "XGBClassifier(base_score=0.5, booster='gbtree', colsample_bylevel=1,\n",
       "       colsample_bynode=1, colsample_bytree=0.95, gamma=0.3,\n",
       "       learning_rate=0.1, max_delta_step=0, max_depth=2,\n",
       "       min_child_weight=2, missing=None, n_estimators=1000, n_jobs=1,\n",
       "       nthread=4, objective='binary:logistic', random_state=0, reg_alpha=2,\n",
       "       reg_lambda=1, scale_pos_weight=1, seed=27, silent=None,\n",
       "       subsample=0.9, verbosity=1)"
      ]
     },
     "execution_count": 109,
     "metadata": {},
     "output_type": "execute_result"
    }
   ],
   "source": [
    "xgb1.fit(X_train,y_train)"
   ]
  },
  {
   "cell_type": "code",
   "execution_count": 111,
   "metadata": {},
   "outputs": [
    {
     "name": "stderr",
     "output_type": "stream",
     "text": [
      "D:\\Python\\Installation\\lib\\site-packages\\sklearn\\preprocessing\\label.py:151: DeprecationWarning: The truth value of an empty array is ambiguous. Returning False, but in future this will result in an error. Use `array.size > 0` to check that an array is not empty.\n",
      "  if diff:\n"
     ]
    }
   ],
   "source": [
    "pred = xgb1.predict(X_val)"
   ]
  },
  {
   "cell_type": "code",
   "execution_count": 112,
   "metadata": {},
   "outputs": [
    {
     "name": "stdout",
     "output_type": "stream",
     "text": [
      "0.696749879908009\n",
      "\n",
      "\n",
      "0.9957702349869452\n",
      "\n",
      "\n",
      "[[38054    33]\n",
      " [  129    84]]\n",
      "\n",
      "\n",
      "             precision    recall  f1-score   support\n",
      "\n",
      "          0       1.00      1.00      1.00     38087\n",
      "          1       0.72      0.39      0.51       213\n",
      "\n",
      "avg / total       1.00      1.00      1.00     38300\n",
      "\n"
     ]
    }
   ],
   "source": [
    "print(roc_auc_score(y_val,pred))\n",
    "print('\\n')\n",
    "print(accuracy_score(y_val,pred))\n",
    "print('\\n')\n",
    "print(confusion_matrix(y_val,pred))\n",
    "print('\\n')\n",
    "print(classification_report(y_val,pred))"
   ]
  },
  {
   "cell_type": "markdown",
   "metadata": {},
   "source": [
    "# Questions"
   ]
  },
  {
   "cell_type": "markdown",
   "metadata": {},
   "source": [
    "1. Here with XGBoost, why recall abd precision showing 1 ?\n",
    "2. How can increase auc_roc score ?"
   ]
  },
  {
   "cell_type": "markdown",
   "metadata": {},
   "source": [
    "3. How can i make count less for FP and FN ?\n",
    "4. Why feature scaling gave improvement in roc_auc score ?\n",
    "\n"
   ]
  },
  {
   "cell_type": "code",
   "execution_count": null,
   "metadata": {},
   "outputs": [],
   "source": []
  }
 ],
 "metadata": {
  "kernelspec": {
   "display_name": "Python 3",
   "language": "python",
   "name": "python3"
  },
  "language_info": {
   "codemirror_mode": {
    "name": "ipython",
    "version": 3
   },
   "file_extension": ".py",
   "mimetype": "text/x-python",
   "name": "python",
   "nbconvert_exporter": "python",
   "pygments_lexer": "ipython3",
   "version": "3.6.4"
  }
 },
 "nbformat": 4,
 "nbformat_minor": 2
}
